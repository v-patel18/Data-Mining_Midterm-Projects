{
  "nbformat": 4,
  "nbformat_minor": 0,
  "metadata": {
    "colab": {
      "name": "Titanic Survivors.ipynb",
      "version": "0.3.2",
      "provenance": [],
      "collapsed_sections": [],
      "include_colab_link": true
    },
    "kernelspec": {
      "name": "python3",
      "display_name": "Python 3"
    }
  },
  "cells": [
    {
      "cell_type": "markdown",
      "metadata": {
        "id": "view-in-github",
        "colab_type": "text"
      },
      "source": [
        "<a href=\"https://colab.research.google.com/github/v-patel18/Data-Mining_Midterm-Projects/blob/master/Titanic_Survivors.ipynb\" target=\"_parent\"><img src=\"https://colab.research.google.com/assets/colab-badge.svg\" alt=\"Open In Colab\"/></a>"
      ]
    },
    {
      "metadata": {
        "id": "Fub2N86YarCl",
        "colab_type": "code",
        "outputId": "1f27bc48-0529-48f2-d8a9-ab21d2398d3f",
        "colab": {
          "resources": {
            "http://localhost:8080/nbextensions/google.colab/files.js": {
              "data": "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",
              "ok": true,
              "headers": [
                [
                  "content-type",
                  "application/javascript"
                ]
              ],
              "status": 200,
              "status_text": ""
            }
          },
          "base_uri": "https://localhost:8080/",
          "height": 57
        }
      },
      "cell_type": "code",
      "source": [
        "import pandas as pd\n",
        "import numpy as np\n",
        "import matplotlib.pyplot as plt\n",
        "import seaborn as sns\n",
        "from sklearn.preprocessing import LabelEncoder\n",
        "\n",
        "#ignore warnings\n",
        "import sys\n",
        "import warnings\n",
        "warnings.filterwarnings('ignore')\n",
        "print('-'*25)\n",
        "\n",
        "from google.colab import files\n",
        "uploaded = files.upload()"
      ],
      "execution_count": 0,
      "outputs": [
        {
          "output_type": "stream",
          "text": [
            "-------------------------\n"
          ],
          "name": "stdout"
        },
        {
          "output_type": "display_data",
          "data": {
            "text/html": [
              "\n",
              "     <input type=\"file\" id=\"files-2b643ef2-3805-45ef-bc57-bdac656fe81a\" name=\"files[]\" multiple disabled />\n",
              "     <output id=\"result-2b643ef2-3805-45ef-bc57-bdac656fe81a\">\n",
              "      Upload widget is only available when the cell has been executed in the\n",
              "      current browser session. Please rerun this cell to enable.\n",
              "      </output>\n",
              "      <script src=\"/nbextensions/google.colab/files.js\"></script> "
            ],
            "text/plain": [
              "<IPython.core.display.HTML object>"
            ]
          },
          "metadata": {
            "tags": []
          }
        }
      ]
    },
    {
      "metadata": {
        "id": "2sNYhAWsgvvg",
        "colab_type": "code",
        "outputId": "05fed398-882b-49c4-ff8e-3fb3ab7e2326",
        "colab": {
          "base_uri": "https://localhost:8080/",
          "height": 204
        }
      },
      "cell_type": "code",
      "source": [
        "#Create a dataframe from the csv files\n",
        "train = pd.read_csv('train_titanic.csv')\n",
        "test = pd.read_csv('test_titanic.csv')\n",
        "\n",
        "#Save necessary info about the data\n",
        "num_train = train.shape[0]\n",
        "y_train = train['Survived'].values\n",
        "pass_ID = test['PassengerId']\n",
        "\n",
        "#Concatenate train and test\n",
        "all_data = pd.concat((train,test))\n",
        "\n",
        "#Look at the train file\n",
        "train.head()"
      ],
      "execution_count": 0,
      "outputs": [
        {
          "output_type": "execute_result",
          "data": {
            "text/html": [
              "<div>\n",
              "<style scoped>\n",
              "    .dataframe tbody tr th:only-of-type {\n",
              "        vertical-align: middle;\n",
              "    }\n",
              "\n",
              "    .dataframe tbody tr th {\n",
              "        vertical-align: top;\n",
              "    }\n",
              "\n",
              "    .dataframe thead th {\n",
              "        text-align: right;\n",
              "    }\n",
              "</style>\n",
              "<table border=\"1\" class=\"dataframe\">\n",
              "  <thead>\n",
              "    <tr style=\"text-align: right;\">\n",
              "      <th></th>\n",
              "      <th>PassengerId</th>\n",
              "      <th>Survived</th>\n",
              "      <th>Pclass</th>\n",
              "      <th>Name</th>\n",
              "      <th>Sex</th>\n",
              "      <th>Age</th>\n",
              "      <th>SibSp</th>\n",
              "      <th>Parch</th>\n",
              "      <th>Ticket</th>\n",
              "      <th>Fare</th>\n",
              "      <th>Cabin</th>\n",
              "      <th>Embarked</th>\n",
              "    </tr>\n",
              "  </thead>\n",
              "  <tbody>\n",
              "    <tr>\n",
              "      <th>0</th>\n",
              "      <td>1</td>\n",
              "      <td>0</td>\n",
              "      <td>3</td>\n",
              "      <td>Braund, Mr. Owen Harris</td>\n",
              "      <td>male</td>\n",
              "      <td>22.0</td>\n",
              "      <td>1</td>\n",
              "      <td>0</td>\n",
              "      <td>A/5 21171</td>\n",
              "      <td>7.2500</td>\n",
              "      <td>NaN</td>\n",
              "      <td>S</td>\n",
              "    </tr>\n",
              "    <tr>\n",
              "      <th>1</th>\n",
              "      <td>2</td>\n",
              "      <td>1</td>\n",
              "      <td>1</td>\n",
              "      <td>Cumings, Mrs. John Bradley (Florence Briggs Th...</td>\n",
              "      <td>female</td>\n",
              "      <td>38.0</td>\n",
              "      <td>1</td>\n",
              "      <td>0</td>\n",
              "      <td>PC 17599</td>\n",
              "      <td>71.2833</td>\n",
              "      <td>C85</td>\n",
              "      <td>C</td>\n",
              "    </tr>\n",
              "    <tr>\n",
              "      <th>2</th>\n",
              "      <td>3</td>\n",
              "      <td>1</td>\n",
              "      <td>3</td>\n",
              "      <td>Heikkinen, Miss. Laina</td>\n",
              "      <td>female</td>\n",
              "      <td>26.0</td>\n",
              "      <td>0</td>\n",
              "      <td>0</td>\n",
              "      <td>STON/O2. 3101282</td>\n",
              "      <td>7.9250</td>\n",
              "      <td>NaN</td>\n",
              "      <td>S</td>\n",
              "    </tr>\n",
              "    <tr>\n",
              "      <th>3</th>\n",
              "      <td>4</td>\n",
              "      <td>1</td>\n",
              "      <td>1</td>\n",
              "      <td>Futrelle, Mrs. Jacques Heath (Lily May Peel)</td>\n",
              "      <td>female</td>\n",
              "      <td>35.0</td>\n",
              "      <td>1</td>\n",
              "      <td>0</td>\n",
              "      <td>113803</td>\n",
              "      <td>53.1000</td>\n",
              "      <td>C123</td>\n",
              "      <td>S</td>\n",
              "    </tr>\n",
              "    <tr>\n",
              "      <th>4</th>\n",
              "      <td>5</td>\n",
              "      <td>0</td>\n",
              "      <td>3</td>\n",
              "      <td>Allen, Mr. William Henry</td>\n",
              "      <td>male</td>\n",
              "      <td>35.0</td>\n",
              "      <td>0</td>\n",
              "      <td>0</td>\n",
              "      <td>373450</td>\n",
              "      <td>8.0500</td>\n",
              "      <td>NaN</td>\n",
              "      <td>S</td>\n",
              "    </tr>\n",
              "  </tbody>\n",
              "</table>\n",
              "</div>"
            ],
            "text/plain": [
              "   PassengerId  Survived  Pclass  \\\n",
              "0            1         0       3   \n",
              "1            2         1       1   \n",
              "2            3         1       3   \n",
              "3            4         1       1   \n",
              "4            5         0       3   \n",
              "\n",
              "                                                Name     Sex   Age  SibSp  \\\n",
              "0                            Braund, Mr. Owen Harris    male  22.0      1   \n",
              "1  Cumings, Mrs. John Bradley (Florence Briggs Th...  female  38.0      1   \n",
              "2                             Heikkinen, Miss. Laina  female  26.0      0   \n",
              "3       Futrelle, Mrs. Jacques Heath (Lily May Peel)  female  35.0      1   \n",
              "4                           Allen, Mr. William Henry    male  35.0      0   \n",
              "\n",
              "   Parch            Ticket     Fare Cabin Embarked  \n",
              "0      0         A/5 21171   7.2500   NaN        S  \n",
              "1      0          PC 17599  71.2833   C85        C  \n",
              "2      0  STON/O2. 3101282   7.9250   NaN        S  \n",
              "3      0            113803  53.1000  C123        S  \n",
              "4      0            373450   8.0500   NaN        S  "
            ]
          },
          "metadata": {
            "tags": []
          },
          "execution_count": 1413
        }
      ]
    },
    {
      "metadata": {
        "id": "onQaiwVBuIfk",
        "colab_type": "text"
      },
      "cell_type": "markdown",
      "source": [
        "**Data Visualization and Exploration**"
      ]
    },
    {
      "metadata": {
        "id": "fmUjCN1chSJp",
        "colab_type": "code",
        "outputId": "6b9d93e0-0e1a-4e20-c4a2-a9ad0e8983a7",
        "colab": {
          "base_uri": "https://localhost:8080/",
          "height": 238
        }
      },
      "cell_type": "code",
      "source": [
        "#Find out how many null values exist\n",
        "print(all_data.isnull().sum())"
      ],
      "execution_count": 0,
      "outputs": [
        {
          "output_type": "stream",
          "text": [
            "Age             263\n",
            "Cabin          1014\n",
            "Embarked          2\n",
            "Fare              1\n",
            "Name              0\n",
            "Parch             0\n",
            "PassengerId       0\n",
            "Pclass            0\n",
            "Sex               0\n",
            "SibSp             0\n",
            "Survived        418\n",
            "Ticket            0\n",
            "dtype: int64\n"
          ],
          "name": "stdout"
        }
      ]
    },
    {
      "metadata": {
        "id": "21JegOxOuLxe",
        "colab_type": "code",
        "outputId": "867618fd-2f64-4cf4-942b-b32ccef66cbd",
        "colab": {
          "base_uri": "https://localhost:8080/",
          "height": 609
        }
      },
      "cell_type": "code",
      "source": [
        "#Generate a correlation matrix for the train dataset\n",
        "corrmat = train.corr()\n",
        "f, ax = plt.subplots(figsize = (12, 10))\n",
        "sns.heatmap(corrmat, vmax = .9, square = True)"
      ],
      "execution_count": 0,
      "outputs": [
        {
          "output_type": "execute_result",
          "data": {
            "text/plain": [
              "<matplotlib.axes._subplots.AxesSubplot at 0x7f4befde4630>"
            ]
          },
          "metadata": {
            "tags": []
          },
          "execution_count": 1415
        },
        {
          "output_type": "display_data",
          "data": {
            "image/png": "[encoded data removed]",
            "text/plain": [
              "<Figure size 864x720 with 2 Axes>"
            ]
          },
          "metadata": {
            "tags": []
          }
        }
      ]
    },
    {
      "metadata": {
        "id": "gJUbWu50vSQi",
        "colab_type": "code",
        "outputId": "0650c7d4-a671-45d2-f403-6fde8cdc237c",
        "colab": {
          "base_uri": "https://localhost:8080/",
          "height": 385
        }
      },
      "cell_type": "code",
      "source": [
        "#Graph the survivors\n",
        "fig = plt.figure(figsize = (10,5))\n",
        "sns.countplot(x='Survived', data = train)\n",
        "print(train['Survived'].value_counts())"
      ],
      "execution_count": 0,
      "outputs": [
        {
          "output_type": "stream",
          "text": [
            "0    549\n",
            "1    342\n",
            "Name: Survived, dtype: int64\n"
          ],
          "name": "stdout"
        },
        {
          "output_type": "display_data",
          "data": {
            "image/png": "[encoded data removed]",
            "text/plain": [
              "<Figure size 720x360 with 1 Axes>"
            ]
          },
          "metadata": {
            "tags": []
          }
        }
      ]
    },
    {
      "metadata": {
        "id": "S7co7P6j_XUn",
        "colab_type": "text"
      },
      "cell_type": "markdown",
      "source": [
        "The graph above shows that around 38% of the passengers in th train dataset survived, which is representative of the actual percentage of total passengers that survived (around 32%)"
      ]
    },
    {
      "metadata": {
        "id": "LuF8OT2Cwzx3",
        "colab_type": "code",
        "outputId": "c9992c1f-a438-4606-b503-8a209e9bb88b",
        "colab": {
          "base_uri": "https://localhost:8080/",
          "height": 366
        }
      },
      "cell_type": "code",
      "source": [
        "#PClass vs Survived\n",
        "fig = plt.figure(figsize = (10,5))\n",
        "ax1 = plt.subplot(1,1,1)\n",
        "ax1 = sns.pointplot(x = 'Pclass', y = 'Survived', data = train)\n",
        "ax1.set_title('Ticket Class Survival Rate')\n",
        "ax1.set_xlabel('Ticket Class')\n",
        "ax1.set_ylabel('Percent Survived')"
      ],
      "execution_count": 0,
      "outputs": [
        {
          "output_type": "execute_result",
          "data": {
            "text/plain": [
              "Text(0, 0.5, 'Percent Survived')"
            ]
          },
          "metadata": {
            "tags": []
          },
          "execution_count": 1417
        },
        {
          "output_type": "display_data",
          "data": {
            "image/png": "[encoded data removed]",
            "text/plain": [
              "<Figure size 720x360 with 1 Axes>"
            ]
          },
          "metadata": {
            "tags": []
          }
        }
      ]
    },
    {
      "metadata": {
        "id": "I0CYUObO-_6j",
        "colab_type": "text"
      },
      "cell_type": "markdown",
      "source": [
        "The graph above shows that the better the ticket class, the higher the chances of survival"
      ]
    },
    {
      "metadata": {
        "id": "KiQxIOtctgdJ",
        "colab_type": "code",
        "outputId": "9304eda8-1e2b-466a-a44a-a9e5a3f1e8f2",
        "colab": {
          "base_uri": "https://localhost:8080/",
          "height": 366
        }
      },
      "cell_type": "code",
      "source": [
        "#Sex vs Survived\n",
        "fig = plt.figure(figsize = (10,5))\n",
        "ax1 = plt.subplot(1,1,1)\n",
        "ax1 = sns.countplot(x = 'Sex', hue = 'Survived', data = train)\n",
        "ax1.set_title('Sex Survival Rate')\n",
        "ax1.set_xlabel('Sex')\n",
        "ax1.set_ylabel('Amount Survived')\n",
        "ax1.legend(['No','Yes'])"
      ],
      "execution_count": 0,
      "outputs": [
        {
          "output_type": "execute_result",
          "data": {
            "text/plain": [
              "<matplotlib.legend.Legend at 0x7f4bef6256a0>"
            ]
          },
          "metadata": {
            "tags": []
          },
          "execution_count": 1418
        },
        {
          "output_type": "display_data",
          "data": {
            "image/png": "[encoded data removed]",
            "text/plain": [
              "<Figure size 720x360 with 1 Axes>"
            ]
          },
          "metadata": {
            "tags": []
          }
        }
      ]
    },
    {
      "metadata": {
        "id": "tOJRXqgZ-caU",
        "colab_type": "text"
      },
      "cell_type": "markdown",
      "source": [
        "The graph above clearly shows that females had a significantly higher chance of survival"
      ]
    },
    {
      "metadata": {
        "id": "W6cAotDVKklT",
        "colab_type": "code",
        "outputId": "918f972e-90cc-4fac-b9e8-394b97905128",
        "colab": {
          "base_uri": "https://localhost:8080/",
          "height": 238
        }
      },
      "cell_type": "code",
      "source": [
        "#Age vs Survival\n",
        "\n",
        "g = sns.FacetGrid(train, col='Survived')\n",
        "g.map(plt.hist, 'Age', bins=20)"
      ],
      "execution_count": 0,
      "outputs": [
        {
          "output_type": "execute_result",
          "data": {
            "text/plain": [
              "<seaborn.axisgrid.FacetGrid at 0x7f4beef64278>"
            ]
          },
          "metadata": {
            "tags": []
          },
          "execution_count": 1419
        },
        {
          "output_type": "display_data",
          "data": {
            "image/png": "[encoded data removed]",
            "text/plain": [
              "<Figure size 432x216 with 2 Axes>"
            ]
          },
          "metadata": {
            "tags": []
          }
        }
      ]
    },
    {
      "metadata": {
        "id": "EAC2I9_K01_m",
        "colab_type": "code",
        "outputId": "4f7eb685-5783-4686-d07a-0a146d976eda",
        "colab": {
          "base_uri": "https://localhost:8080/",
          "height": 311
        }
      },
      "cell_type": "code",
      "source": [
        "#Overlay of Age over Sex - dropped null values at the moment\n",
        "survived = 'survived'\n",
        "not_survived = 'not survived'\n",
        "fig, axes = plt.subplots(nrows=1, ncols=2,figsize=(10, 4))\n",
        "women = train[train['Sex']=='female']\n",
        "men = train[train['Sex']=='male']\n",
        "ax = sns.distplot(women[women['Survived']==1].Age.dropna(), bins=20, label = survived, ax = axes[0], kde =False)\n",
        "ax = sns.distplot(women[women['Survived']==0].Age.dropna(), bins=20, label = not_survived, ax = axes[0], kde =False)\n",
        "ax.legend()\n",
        "ax.set_title('Female')\n",
        "ax = sns.distplot(men[men['Survived']==1].Age.dropna(), bins=20, label = survived, ax = axes[1], kde = False)\n",
        "ax = sns.distplot(men[men['Survived']==0].Age.dropna(), bins=20, label = not_survived, ax = axes[1], kde = False)\n",
        "ax.legend()\n",
        "ax.set_title('Male')"
      ],
      "execution_count": 0,
      "outputs": [
        {
          "output_type": "execute_result",
          "data": {
            "text/plain": [
              "Text(0.5, 1.0, 'Male')"
            ]
          },
          "metadata": {
            "tags": []
          },
          "execution_count": 1420
        },
        {
          "output_type": "display_data",
          "data": {
            "image/png": "[encoded data removed]",
            "text/plain": [
              "<Figure size 720x288 with 2 Axes>"
            ]
          },
          "metadata": {
            "tags": []
          }
        }
      ]
    },
    {
      "metadata": {
        "id": "HvfT5Trx9q80",
        "colab_type": "text"
      },
      "cell_type": "markdown",
      "source": [
        "The above plot shows women have significantly higher chances of survival across every age group. Also, the survival rate peaks around the age of 20-40 for both age groups"
      ]
    },
    {
      "metadata": {
        "id": "tvSfcwKC7EBe",
        "colab_type": "code",
        "outputId": "b1cccfc6-7acc-4c5d-91ca-cd15b54872c5",
        "colab": {
          "base_uri": "https://localhost:8080/",
          "height": 376
        }
      },
      "cell_type": "code",
      "source": [
        "#Visualize the Fare data\n",
        "plt.hist(all_data['Fare'], bins=40)\n",
        "plt.xlabel('Fare')\n",
        "plt.ylabel('Count')\n",
        "plt.title('Distribution of fares')\n",
        "plt.show()"
      ],
      "execution_count": 0,
      "outputs": [
        {
          "output_type": "display_data",
          "data": {
            "image/png": "[encoded data removed]",
            "text/plain": [
              "<Figure size 576x396 with 1 Axes>"
            ]
          },
          "metadata": {
            "tags": []
          }
        }
      ]
    },
    {
      "metadata": {
        "id": "Mpv8ryiM9ZVn",
        "colab_type": "text"
      },
      "cell_type": "markdown",
      "source": [
        "The above graph shows that fares are skewed to the left, which can be taken care of by binning the fares (done in the 'Handle Null Values' section)."
      ]
    },
    {
      "metadata": {
        "id": "dWhWl9tVNUys",
        "colab_type": "text"
      },
      "cell_type": "markdown",
      "source": [
        "**Feature Engineering**"
      ]
    },
    {
      "metadata": {
        "id": "bDk0WAqXDjLf",
        "colab_type": "code",
        "outputId": "75c1825e-1b4e-47b4-8379-0cd396aeebc9",
        "colab": {
          "base_uri": "https://localhost:8080/",
          "height": 34
        }
      },
      "cell_type": "code",
      "source": [
        "#A passenger's name seems to be of little significance since most people are bound to have different names. However, names do include the titles,\n",
        "#which can indicate the age group and gender - a combination of two of the features given, in essence\n",
        "\n",
        "def get_title(name):\n",
        "    if '.' in name:\n",
        "        return name.split(',')[1].split('.')[0].strip()\n",
        "    else:\n",
        "        return 'Unknown'\n",
        "      \n",
        "titles = sorted(set([x for x in all_data['Name'].map(lambda x: get_title(x))]))\n",
        "print(titles)"
      ],
      "execution_count": 0,
      "outputs": [
        {
          "output_type": "stream",
          "text": [
            "['Capt', 'Col', 'Don', 'Dona', 'Dr', 'Jonkheer', 'Lady', 'Major', 'Master', 'Miss', 'Mlle', 'Mme', 'Mr', 'Mrs', 'Ms', 'Rev', 'Sir', 'the Countess']\n"
          ],
          "name": "stdout"
        }
      ]
    },
    {
      "metadata": {
        "id": "aIFTM4etQJSE",
        "colab_type": "code",
        "colab": {}
      },
      "cell_type": "code",
      "source": [
        "#Combine similar titles\n",
        "def set_title(x):\n",
        "    title = x['Title']\n",
        "    if title in ['Capt', 'Col', 'Don', 'Jonkheer', 'Major', 'Rev', 'Sir', 'the Countess', 'Dona', 'Lady']:\n",
        "        return 'Rare'\n",
        "    elif title in ['Mme']:\n",
        "        return 'Mrs'\n",
        "    elif title in ['Mlle', 'Ms']:\n",
        "        return 'Miss'\n",
        "    elif title =='Dr':\n",
        "        if x['Sex']=='male':\n",
        "            return 'Mr'\n",
        "        else:\n",
        "            return 'Mrs'\n",
        "    else:\n",
        "        return title\n",
        "      \n",
        "all_data['Title'] = all_data['Name'].map(lambda x: get_title(x))\n",
        "all_data['Title'] = all_data.apply(set_title, axis=1)\n",
        "\n",
        "#Print the titles and their corresponding average survival rate\n",
        "train_check = all_data[:num_train]\n",
        "#train_check[['Title', 'Survived']].groupby(['Title'], as_index=False).mean()"
      ],
      "execution_count": 0,
      "outputs": []
    },
    {
      "metadata": {
        "id": "rwXzWA9GkOv2",
        "colab_type": "text"
      },
      "cell_type": "markdown",
      "source": [
        "**Handle Null Values**"
      ]
    },
    {
      "metadata": {
        "id": "yUsx71z6Wsn0",
        "colab_type": "code",
        "outputId": "26fe6ee0-fedb-4075-ca68-93bf924cb1f8",
        "colab": {
          "base_uri": "https://localhost:8080/",
          "height": 34
        }
      },
      "cell_type": "code",
      "source": [
        "#Since the titles can give us some idea about the age group, we can fill in the missing ages with the median of the age in the corresponding title group\n",
        "all_data['Age'] = train_check.groupby('Title')['Age'].apply(lambda x: x.fillna(x.median()))\n",
        "\n",
        "#Check for any remaining null values for 'Age'\n",
        "print(\"Remaining null values in 'Age': {}\".format(all_data['Age'].isnull().sum()))"
      ],
      "execution_count": 0,
      "outputs": [
        {
          "output_type": "stream",
          "text": [
            "Remaining null values in 'Age': 0\n"
          ],
          "name": "stdout"
        }
      ]
    },
    {
      "metadata": {
        "id": "35xuLZfPdUNg",
        "colab_type": "code",
        "outputId": "ce489ae9-bd17-4c91-824e-c49ee3ae2d3a",
        "colab": {
          "base_uri": "https://localhost:8080/",
          "height": 376
        }
      },
      "cell_type": "code",
      "source": [
        "#Check for possible skewness in the 'Age' feature\n",
        "plt.hist(all_data['Age'], bins=40)\n",
        "plt.xlabel('Age')\n",
        "plt.ylabel('Count')\n",
        "plt.title('Distribution of ages')\n",
        "plt.show()"
      ],
      "execution_count": 0,
      "outputs": [
        {
          "output_type": "display_data",
          "data": {
            "image/png": "[encoded data removed]",
            "text/plain": [
              "<Figure size 576x396 with 1 Axes>"
            ]
          },
          "metadata": {
            "tags": []
          }
        }
      ]
    },
    {
      "metadata": {
        "id": "uiPoVIe_0iba",
        "colab_type": "code",
        "colab": {}
      },
      "cell_type": "code",
      "source": [
        "#Separate the ages into bins as a solution to the skew in the age distribution\n",
        "\n",
        "bins = [0, 12, 21, 60, 90]\n",
        "labels = ['Child', 'Adolescent', 'Adult', 'Elderly']\n",
        "age_groups = pd.cut(all_data.Age, bins, labels = labels)\n",
        "all_data['Age'] = age_groups"
      ],
      "execution_count": 0,
      "outputs": []
    },
    {
      "metadata": {
        "id": "G5Fg8VMvi8PI",
        "colab_type": "code",
        "outputId": "92423f3b-33fb-4bc0-ba6a-f24f9c37057e",
        "colab": {
          "base_uri": "https://localhost:8080/",
          "height": 34
        }
      },
      "cell_type": "code",
      "source": [
        "#Embarked has 2 null values\n",
        "#Feature refers to port of embarkation - seems irrelevant to chances of survival (based on instinct) so can replace the null value with the mode\n",
        "\n",
        "all_data['Embarked'] = all_data['Embarked'].fillna(train_check['Embarked'].mode()[0])\n",
        "\n",
        "#Check for remaining null values in 'Embarked'\n",
        "print(\"Remaining null values in 'Embarked:' {}\".format(all_data['Embarked'].isnull().sum()))"
      ],
      "execution_count": 0,
      "outputs": [
        {
          "output_type": "stream",
          "text": [
            "Remaining null values in 'Embarked:' 0\n"
          ],
          "name": "stdout"
        }
      ]
    },
    {
      "metadata": {
        "id": "2qL98WbmmWqe",
        "colab_type": "code",
        "outputId": "3697e6cd-ef2c-4977-82f5-e56d2aa5e551",
        "colab": {
          "base_uri": "https://localhost:8080/",
          "height": 34
        }
      },
      "cell_type": "code",
      "source": [
        "#Fare has 1 null value - can fill it with the mean of the corresponding Pclass\n",
        "all_data['Fare'].describe()\n",
        "all_data['Fare'] = train_check.groupby('Pclass')['Fare'].apply(lambda x: x.fillna(x.mean()))\n",
        "\n",
        "#Check for remaining null values in 'Fare'\n",
        "print(\"Remaining null values in 'Fare:' {}\".format(all_data['Fare'].isnull().sum()))"
      ],
      "execution_count": 0,
      "outputs": [
        {
          "output_type": "stream",
          "text": [
            "Remaining null values in 'Fare:' 0\n"
          ],
          "name": "stdout"
        }
      ]
    },
    {
      "metadata": {
        "id": "bBLSjSlZnXZl",
        "colab_type": "code",
        "outputId": "251e9af9-38a1-403e-d416-8b5145c29d67",
        "colab": {
          "base_uri": "https://localhost:8080/",
          "height": 34
        }
      },
      "cell_type": "code",
      "source": [
        "#Cabin has 1000+ missing values - convert it to known and unknown for now (may delete the column entirely later)\n",
        "def unknown_cabin(cabin):\n",
        "    if(pd.isnull(cabin)):\n",
        "        return 'U'\n",
        "    else:\n",
        "        return 'K'\n",
        "      \n",
        "all_data['Cabin'] = all_data['Cabin'].apply(lambda x:unknown_cabin(x))\n",
        "\n",
        "#Check for remaining null values in 'Fare'\n",
        "print(\"Remaining null values in 'Cabin:' {}\".format(all_data['Cabin'].isnull().sum()))"
      ],
      "execution_count": 0,
      "outputs": [
        {
          "output_type": "stream",
          "text": [
            "Remaining null values in 'Cabin:' 0\n"
          ],
          "name": "stdout"
        }
      ]
    },
    {
      "metadata": {
        "id": "-BTa80rQrFJm",
        "colab_type": "code",
        "outputId": "56a50884-4430-4c37-d0d0-013f3748a9f3",
        "colab": {
          "base_uri": "https://localhost:8080/",
          "height": 153
        }
      },
      "cell_type": "code",
      "source": [
        "#Find out which variables are non-numeric\n",
        "non_numerics = all_data.select_dtypes(exclude = [np.number])\n",
        "non_numerics.dtypes"
      ],
      "execution_count": 0,
      "outputs": [
        {
          "output_type": "execute_result",
          "data": {
            "text/plain": [
              "Age         category\n",
              "Cabin         object\n",
              "Embarked      object\n",
              "Name          object\n",
              "Sex           object\n",
              "Ticket        object\n",
              "Title         object\n",
              "dtype: object"
            ]
          },
          "metadata": {
            "tags": []
          },
          "execution_count": 1431
        }
      ]
    },
    {
      "metadata": {
        "id": "46ikof2WlLv9",
        "colab_type": "code",
        "colab": {}
      },
      "cell_type": "code",
      "source": [
        "#Convert values for 'Age' to numeric values\n",
        "\n",
        "#Age\n",
        "all_data['Age'] = all_data['Age'].replace(['Child', 'Adolescent', 'Adult', 'Elderly'], [0, 1, 2, 3])"
      ],
      "execution_count": 0,
      "outputs": []
    },
    {
      "metadata": {
        "id": "FRkApmXLvA2V",
        "colab_type": "code",
        "outputId": "c29885f8-8f5c-4453-edca-e28440ca32ef",
        "colab": {
          "base_uri": "https://localhost:8080/",
          "height": 238
        }
      },
      "cell_type": "code",
      "source": [
        "#The Parch and SibSp could be used to generate a new feature - Family_Size\n",
        "\n",
        "all_data['Family_Size'] = all_data['Parch'] + all_data['SibSp']\n",
        "all_data.head()"
      ],
      "execution_count": 0,
      "outputs": [
        {
          "output_type": "execute_result",
          "data": {
            "text/html": [
              "<div>\n",
              "<style scoped>\n",
              "    .dataframe tbody tr th:only-of-type {\n",
              "        vertical-align: middle;\n",
              "    }\n",
              "\n",
              "    .dataframe tbody tr th {\n",
              "        vertical-align: top;\n",
              "    }\n",
              "\n",
              "    .dataframe thead th {\n",
              "        text-align: right;\n",
              "    }\n",
              "</style>\n",
              "<table border=\"1\" class=\"dataframe\">\n",
              "  <thead>\n",
              "    <tr style=\"text-align: right;\">\n",
              "      <th></th>\n",
              "      <th>Age</th>\n",
              "      <th>Cabin</th>\n",
              "      <th>Embarked</th>\n",
              "      <th>Fare</th>\n",
              "      <th>Name</th>\n",
              "      <th>Parch</th>\n",
              "      <th>PassengerId</th>\n",
              "      <th>Pclass</th>\n",
              "      <th>Sex</th>\n",
              "      <th>SibSp</th>\n",
              "      <th>Survived</th>\n",
              "      <th>Ticket</th>\n",
              "      <th>Title</th>\n",
              "      <th>Family_Size</th>\n",
              "    </tr>\n",
              "  </thead>\n",
              "  <tbody>\n",
              "    <tr>\n",
              "      <th>0</th>\n",
              "      <td>2</td>\n",
              "      <td>U</td>\n",
              "      <td>S</td>\n",
              "      <td>7.2500</td>\n",
              "      <td>Braund, Mr. Owen Harris</td>\n",
              "      <td>0</td>\n",
              "      <td>1</td>\n",
              "      <td>3</td>\n",
              "      <td>male</td>\n",
              "      <td>1</td>\n",
              "      <td>0.0</td>\n",
              "      <td>A/5 21171</td>\n",
              "      <td>Mr</td>\n",
              "      <td>1</td>\n",
              "    </tr>\n",
              "    <tr>\n",
              "      <th>1</th>\n",
              "      <td>2</td>\n",
              "      <td>K</td>\n",
              "      <td>C</td>\n",
              "      <td>71.2833</td>\n",
              "      <td>Cumings, Mrs. John Bradley (Florence Briggs Th...</td>\n",
              "      <td>0</td>\n",
              "      <td>2</td>\n",
              "      <td>1</td>\n",
              "      <td>female</td>\n",
              "      <td>1</td>\n",
              "      <td>1.0</td>\n",
              "      <td>PC 17599</td>\n",
              "      <td>Mrs</td>\n",
              "      <td>1</td>\n",
              "    </tr>\n",
              "    <tr>\n",
              "      <th>2</th>\n",
              "      <td>2</td>\n",
              "      <td>U</td>\n",
              "      <td>S</td>\n",
              "      <td>7.9250</td>\n",
              "      <td>Heikkinen, Miss. Laina</td>\n",
              "      <td>0</td>\n",
              "      <td>3</td>\n",
              "      <td>3</td>\n",
              "      <td>female</td>\n",
              "      <td>0</td>\n",
              "      <td>1.0</td>\n",
              "      <td>STON/O2. 3101282</td>\n",
              "      <td>Miss</td>\n",
              "      <td>0</td>\n",
              "    </tr>\n",
              "    <tr>\n",
              "      <th>3</th>\n",
              "      <td>2</td>\n",
              "      <td>K</td>\n",
              "      <td>S</td>\n",
              "      <td>53.1000</td>\n",
              "      <td>Futrelle, Mrs. Jacques Heath (Lily May Peel)</td>\n",
              "      <td>0</td>\n",
              "      <td>4</td>\n",
              "      <td>1</td>\n",
              "      <td>female</td>\n",
              "      <td>1</td>\n",
              "      <td>1.0</td>\n",
              "      <td>113803</td>\n",
              "      <td>Mrs</td>\n",
              "      <td>1</td>\n",
              "    </tr>\n",
              "    <tr>\n",
              "      <th>4</th>\n",
              "      <td>2</td>\n",
              "      <td>U</td>\n",
              "      <td>S</td>\n",
              "      <td>8.0500</td>\n",
              "      <td>Allen, Mr. William Henry</td>\n",
              "      <td>0</td>\n",
              "      <td>5</td>\n",
              "      <td>3</td>\n",
              "      <td>male</td>\n",
              "      <td>0</td>\n",
              "      <td>0.0</td>\n",
              "      <td>373450</td>\n",
              "      <td>Mr</td>\n",
              "      <td>0</td>\n",
              "    </tr>\n",
              "  </tbody>\n",
              "</table>\n",
              "</div>"
            ],
            "text/plain": [
              "   Age Cabin Embarked     Fare  \\\n",
              "0    2     U        S   7.2500   \n",
              "1    2     K        C  71.2833   \n",
              "2    2     U        S   7.9250   \n",
              "3    2     K        S  53.1000   \n",
              "4    2     U        S   8.0500   \n",
              "\n",
              "                                                Name  Parch  PassengerId  \\\n",
              "0                            Braund, Mr. Owen Harris      0            1   \n",
              "1  Cumings, Mrs. John Bradley (Florence Briggs Th...      0            2   \n",
              "2                             Heikkinen, Miss. Laina      0            3   \n",
              "3       Futrelle, Mrs. Jacques Heath (Lily May Peel)      0            4   \n",
              "4                           Allen, Mr. William Henry      0            5   \n",
              "\n",
              "   Pclass     Sex  SibSp  Survived            Ticket Title  Family_Size  \n",
              "0       3    male      1       0.0         A/5 21171    Mr            1  \n",
              "1       1  female      1       1.0          PC 17599   Mrs            1  \n",
              "2       3  female      0       1.0  STON/O2. 3101282  Miss            0  \n",
              "3       1  female      1       1.0            113803   Mrs            1  \n",
              "4       3    male      0       0.0            373450    Mr            0  "
            ]
          },
          "metadata": {
            "tags": []
          },
          "execution_count": 1433
        }
      ]
    },
    {
      "metadata": {
        "id": "Tc-h-QD7OhaU",
        "colab_type": "code",
        "outputId": "73b3bfbc-98b3-4c2c-87e5-725fd2fd9001",
        "colab": {
          "base_uri": "https://localhost:8080/",
          "height": 34
        }
      },
      "cell_type": "code",
      "source": [
        "#People in a group/family tend to have similar survival rate - could be extracted by using a combination of various other features\n",
        "\n",
        "# Extract last name\n",
        "all_data['Last_Name'] = all_data['Name'].apply(lambda x: str.split(x, \",\")[0])\n",
        "\n",
        "# Setting coin flip (e.g. random chance of surviving)\n",
        "default_survival_chance = 0.5\n",
        "all_data['Family_Survival'] = default_survival_chance\n",
        "\n",
        "# Grouping data by last name and fare - looking for families\n",
        "for grp, grp_df in all_data[['Survived','Name', 'Last_Name', 'Fare', 'Ticket', 'PassengerId',\n",
        "                           'SibSp', 'Parch', 'Age', 'Cabin']].groupby(['Last_Name', 'Fare']):\n",
        "    \n",
        "    # If not equal to 1, a family is found \n",
        "    # Then work out survival chance depending on whether or not that family member survived\n",
        "    if (len(grp_df) != 1):\n",
        "        for ind, row in grp_df.iterrows():\n",
        "            smax = grp_df.drop(ind)['Survived'].max()\n",
        "            smin = grp_df.drop(ind)['Survived'].min()\n",
        "            passID = row['PassengerId']\n",
        "            if (smax == 1.0):\n",
        "                all_data.loc[all_data['PassengerId'] == passID, 'Family_Survival'] = 1\n",
        "            elif (smin == 0.0):\n",
        "                all_data.loc[all_data['PassengerId'] == passID, 'Family_Survival'] = 0\n",
        "\n",
        "# If not equal to 1, a group member is found\n",
        "# Then work out survival chance depending on whether or not that group member survived\n",
        "for _, grp_df in all_data.groupby('Ticket'):\n",
        "    if (len(grp_df) != 1):\n",
        "        for ind, row in grp_df.iterrows():\n",
        "            if (row['Family_Survival'] == 0) | (row['Family_Survival']== 0.5):\n",
        "                smax = grp_df.drop(ind)['Survived'].max()\n",
        "                smin = grp_df.drop(ind)['Survived'].min()\n",
        "                passID = row['PassengerId']\n",
        "                if (smax == 1.0):\n",
        "                    all_data.loc[all_data['PassengerId'] == passID, 'Family_Survival'] = 1\n",
        "                elif (smin==0.0):\n",
        "                    all_data.loc[all_data['PassengerId'] == passID, 'Family_Survival'] = 0"
      ],
      "execution_count": 0,
      "outputs": [
        {
          "output_type": "stream",
          "text": [
            "Number of passengers with family survival information: 283\n"
          ],
          "name": "stdout"
        }
      ]
    },
    {
      "metadata": {
        "id": "OIdnyGgkxUaA",
        "colab_type": "code",
        "colab": {}
      },
      "cell_type": "code",
      "source": [
        "#Reset index\n",
        "all_data = all_data.reset_index(drop=True)\n",
        "all_data = all_data.drop('Survived', axis=1)"
      ],
      "execution_count": 0,
      "outputs": []
    },
    {
      "metadata": {
        "id": "MVElR7p7dwap",
        "colab_type": "code",
        "outputId": "60197e24-7397-4d8e-f1c8-2bb4774ed8a6",
        "colab": {
          "base_uri": "https://localhost:8080/",
          "height": 252
        }
      },
      "cell_type": "code",
      "source": [
        "#Compute Fare/Passenger\n",
        "train = all_data[:num_train]\n",
        "test = all_data[num_train:]\n",
        "\n",
        "trainTickets = train[\"Ticket\"].value_counts()\n",
        "testTickets = test[\"Ticket\"].value_counts()\n",
        "bothTickets = np.intersect1d(train[\"Ticket\"].values, test[\"Ticket\"].values)\n",
        "\n",
        "for i in range(0, num_train):\n",
        "    ticket = train.at[i,\"Ticket\"]\n",
        "    if(ticket in bothTickets):\n",
        "        train.at[i,\"FarePerPass\"]=train.at[i,\"Fare\"]/(trainTickets[ticket] + testTickets[ticket])\n",
        "    else:\n",
        "        train.at[i,\"FarePerPass\"]=train.at[i,\"Fare\"]/(trainTickets[ticket])\n",
        "        \n",
        "for i in range(num_train, num_train+test.shape[0]):\n",
        "    ticket = test.at[i,\"Ticket\"]\n",
        "    if(ticket in bothTickets):\n",
        "        test.at[i,\"FarePerPass\"]=test.at[i,\"Fare\"]/(trainTickets[ticket] + testTickets[ticket])\n",
        "    else:\n",
        "        test.at[i,\"FarePerPass\"]=test.at[i,\"Fare\"]/(testTickets[ticket])\n",
        "\n",
        "all_data = pd.concat((train,test)).reset_index(drop=True)\n",
        "\n",
        "#Make sure it works:\n",
        "train[\"FamilyName\"]=train[\"Name\"].map(lambda x: x.split(\",\")[0].strip())\n",
        "print(\"Example of correction for large Pclass 3 Family\")\n",
        "train[train.FamilyName == \"Panula\"][[\"Pclass\",\"Name\",\"Ticket\",\"Fare\",\"FarePerPass\"]]"
      ],
      "execution_count": 0,
      "outputs": [
        {
          "output_type": "stream",
          "text": [
            "Example of correction for large Pclass 3 Family\n"
          ],
          "name": "stdout"
        },
        {
          "output_type": "execute_result",
          "data": {
            "text/html": [
              "<div>\n",
              "<style scoped>\n",
              "    .dataframe tbody tr th:only-of-type {\n",
              "        vertical-align: middle;\n",
              "    }\n",
              "\n",
              "    .dataframe tbody tr th {\n",
              "        vertical-align: top;\n",
              "    }\n",
              "\n",
              "    .dataframe thead th {\n",
              "        text-align: right;\n",
              "    }\n",
              "</style>\n",
              "<table border=\"1\" class=\"dataframe\">\n",
              "  <thead>\n",
              "    <tr style=\"text-align: right;\">\n",
              "      <th></th>\n",
              "      <th>Pclass</th>\n",
              "      <th>Name</th>\n",
              "      <th>Ticket</th>\n",
              "      <th>Fare</th>\n",
              "      <th>FarePerPass</th>\n",
              "    </tr>\n",
              "  </thead>\n",
              "  <tbody>\n",
              "    <tr>\n",
              "      <th>50</th>\n",
              "      <td>3</td>\n",
              "      <td>Panula, Master. Juha Niilo</td>\n",
              "      <td>3101295</td>\n",
              "      <td>39.6875</td>\n",
              "      <td>5.669643</td>\n",
              "    </tr>\n",
              "    <tr>\n",
              "      <th>164</th>\n",
              "      <td>3</td>\n",
              "      <td>Panula, Master. Eino Viljami</td>\n",
              "      <td>3101295</td>\n",
              "      <td>39.6875</td>\n",
              "      <td>5.669643</td>\n",
              "    </tr>\n",
              "    <tr>\n",
              "      <th>266</th>\n",
              "      <td>3</td>\n",
              "      <td>Panula, Mr. Ernesti Arvid</td>\n",
              "      <td>3101295</td>\n",
              "      <td>39.6875</td>\n",
              "      <td>5.669643</td>\n",
              "    </tr>\n",
              "    <tr>\n",
              "      <th>638</th>\n",
              "      <td>3</td>\n",
              "      <td>Panula, Mrs. Juha (Maria Emilia Ojala)</td>\n",
              "      <td>3101295</td>\n",
              "      <td>39.6875</td>\n",
              "      <td>5.669643</td>\n",
              "    </tr>\n",
              "    <tr>\n",
              "      <th>686</th>\n",
              "      <td>3</td>\n",
              "      <td>Panula, Mr. Jaako Arnold</td>\n",
              "      <td>3101295</td>\n",
              "      <td>39.6875</td>\n",
              "      <td>5.669643</td>\n",
              "    </tr>\n",
              "    <tr>\n",
              "      <th>824</th>\n",
              "      <td>3</td>\n",
              "      <td>Panula, Master. Urho Abraham</td>\n",
              "      <td>3101295</td>\n",
              "      <td>39.6875</td>\n",
              "      <td>5.669643</td>\n",
              "    </tr>\n",
              "  </tbody>\n",
              "</table>\n",
              "</div>"
            ],
            "text/plain": [
              "     Pclass                                    Name   Ticket     Fare  \\\n",
              "50        3              Panula, Master. Juha Niilo  3101295  39.6875   \n",
              "164       3            Panula, Master. Eino Viljami  3101295  39.6875   \n",
              "266       3               Panula, Mr. Ernesti Arvid  3101295  39.6875   \n",
              "638       3  Panula, Mrs. Juha (Maria Emilia Ojala)  3101295  39.6875   \n",
              "686       3                Panula, Mr. Jaako Arnold  3101295  39.6875   \n",
              "824       3            Panula, Master. Urho Abraham  3101295  39.6875   \n",
              "\n",
              "     FarePerPass  \n",
              "50      5.669643  \n",
              "164     5.669643  \n",
              "266     5.669643  \n",
              "638     5.669643  \n",
              "686     5.669643  \n",
              "824     5.669643  "
            ]
          },
          "metadata": {
            "tags": []
          },
          "execution_count": 1437
        }
      ]
    },
    {
      "metadata": {
        "id": "UX9d3rMX98QV",
        "colab_type": "code",
        "colab": {}
      },
      "cell_type": "code",
      "source": [
        "#As mentioned before, bin the fare data into 4 bins\n",
        "all_data['Fare'] = pd.qcut(all_data['Fare'], 4)\n",
        "\n",
        "#Convert bin ranges into numbers\n",
        "lbl = LabelEncoder()\n",
        "all_data['Fare'] = lbl.fit_transform(all_data['Fare'])\n",
        "\n",
        "#Do the same for FarePerPass\n",
        "all_data['FarePerPass'] = pd.qcut(all_data['FarePerPass'], 4)\n",
        "\n",
        "#Convert bin ranges into numbers\n",
        "lbl = LabelEncoder()\n",
        "all_data['FarePerPass'] = lbl.fit_transform(all_data['FarePerPass'])"
      ],
      "execution_count": 0,
      "outputs": []
    },
    {
      "metadata": {
        "id": "Ia_uZefB4fs8",
        "colab_type": "code",
        "outputId": "42f7f9f7-5977-4f9c-8ceb-206d88dc3c78",
        "colab": {
          "base_uri": "https://localhost:8080/",
          "height": 34
        }
      },
      "cell_type": "code",
      "source": [
        "#Delete the features no necessary for modeling\n",
        "all_data = all_data.drop(['Name', 'Ticket', 'PassengerId', 'Parch', 'SibSp', 'Last_Name'], axis = 1)\n",
        "\n",
        "#Now that the unwanted variables have been removed, use one hot encoding (because order doesn't matter) to convert non-numeric data to numeric\n",
        "all_data = pd.get_dummies(all_data)\n",
        "\n",
        "all_data.shape"
      ],
      "execution_count": 0,
      "outputs": [
        {
          "output_type": "execute_result",
          "data": {
            "text/plain": [
              "(1309, 18)"
            ]
          },
          "metadata": {
            "tags": []
          },
          "execution_count": 1439
        }
      ]
    },
    {
      "metadata": {
        "id": "_ZUAHI4Y6V8N",
        "colab_type": "text"
      },
      "cell_type": "markdown",
      "source": [
        "**Create the Model**"
      ]
    },
    {
      "metadata": {
        "id": "DKiTHdDCBXAr",
        "colab_type": "code",
        "colab": {}
      },
      "cell_type": "code",
      "source": [
        "#Import necessary libraries\n",
        "\n",
        "# Pipeline and machine learning algorithms\n",
        "from sklearn.preprocessing import StandardScaler\n",
        "from sklearn.linear_model import LogisticRegression\n",
        "from xgboost import XGBClassifier\n",
        "from sklearn.ensemble import GradientBoostingClassifier\n",
        "from sklearn.ensemble import VotingClassifier\n",
        "\n",
        "# Model fine-tuning and evaluation\n",
        "from sklearn.model_selection import cross_val_score\n",
        "from sklearn.model_selection import GridSearchCV\n",
        "from sklearn.model_selection import cross_val_predict\n",
        "from sklearn import model_selection\n"
      ],
      "execution_count": 0,
      "outputs": []
    },
    {
      "metadata": {
        "id": "y4v5arXP5P5H",
        "colab_type": "code",
        "outputId": "2222b060-0464-4903-e748-a7b96d56504d",
        "colab": {
          "base_uri": "https://localhost:8080/",
          "height": 340
        }
      },
      "cell_type": "code",
      "source": [
        "#Split the concatenated data set into train and test datasets\n",
        "train = all_data[:num_train]\n",
        "test = all_data[num_train:]\n",
        "\n",
        "#save passenger ids from the train dataset\n",
        "#PassID_train = train['PassengerId']\n",
        "\n",
        "#Set up feature and target variables\n",
        "X_test = test\n",
        "X_train = train\n",
        "\n",
        "#Scale data to support modeling\n",
        "scaler = StandardScaler()\n",
        "X_train = scaler.fit_transform(X_train)\n",
        "X_test = scaler.transform(X_test)"
      ],
      "execution_count": 0,
      "outputs": [
        {
          "output_type": "execute_result",
          "data": {
            "text/plain": [
              "Age                0\n",
              "Fare               0\n",
              "Pclass             0\n",
              "Family_Size        0\n",
              "Family_Survival    0\n",
              "FarePerPass        0\n",
              "Cabin_K            0\n",
              "Cabin_U            0\n",
              "Embarked_C         0\n",
              "Embarked_Q         0\n",
              "Embarked_S         0\n",
              "Sex_female         0\n",
              "Sex_male           0\n",
              "Title_Master       0\n",
              "Title_Miss         0\n",
              "Title_Mr           0\n",
              "Title_Mrs          0\n",
              "Title_Rare         0\n",
              "dtype: int64"
            ]
          },
          "metadata": {
            "tags": []
          },
          "execution_count": 1441
        }
      ]
    },
    {
      "metadata": {
        "id": "Uxj02NrrAkVW",
        "colab_type": "code",
        "colab": {}
      },
      "cell_type": "code",
      "source": [
        "# Initiate 3 classifier models\n",
        "log = LogisticRegression()\n",
        "xgb = XGBClassifier()\n",
        "gbc = GradientBoostingClassifier()\n",
        "\n",
        "# Prepare lists\n",
        "models = [log, xgb, gbc]         \n",
        "scores = []\n",
        "\n",
        "# Sequentially fit and cross validate all models\n",
        "for mod in models:\n",
        "    mod.fit(X_train, y_train)\n",
        "    acc = cross_val_score(mod, X_train, y_train, scoring = \"accuracy\", cv = 10)\n",
        "    scores.append(acc.mean())"
      ],
      "execution_count": 0,
      "outputs": []
    },
    {
      "metadata": {
        "id": "sWGhEtlpBm9o",
        "colab_type": "code",
        "outputId": "f0a1b1de-3b94-4d28-c4a8-dc07e0f3681f",
        "colab": {
          "base_uri": "https://localhost:8080/",
          "height": 142
        }
      },
      "cell_type": "code",
      "source": [
        "# View the cross validation score for each model, in decreasing order\n",
        "results = pd.DataFrame({\n",
        "    'Model': ['Logistic Regression', 'XGBoost', 'Gradient Boosting'],\n",
        "    'Score': scores})\n",
        "\n",
        "result_df = results.sort_values(by='Score', ascending=False).reset_index(drop=True)\n",
        "result_df.head(11)\n"
      ],
      "execution_count": 0,
      "outputs": [
        {
          "output_type": "execute_result",
          "data": {
            "text/html": [
              "<div>\n",
              "<style scoped>\n",
              "    .dataframe tbody tr th:only-of-type {\n",
              "        vertical-align: middle;\n",
              "    }\n",
              "\n",
              "    .dataframe tbody tr th {\n",
              "        vertical-align: top;\n",
              "    }\n",
              "\n",
              "    .dataframe thead th {\n",
              "        text-align: right;\n",
              "    }\n",
              "</style>\n",
              "<table border=\"1\" class=\"dataframe\">\n",
              "  <thead>\n",
              "    <tr style=\"text-align: right;\">\n",
              "      <th></th>\n",
              "      <th>Model</th>\n",
              "      <th>Score</th>\n",
              "    </tr>\n",
              "  </thead>\n",
              "  <tbody>\n",
              "    <tr>\n",
              "      <th>0</th>\n",
              "      <td>Gradient Boosting</td>\n",
              "      <td>0.844004</td>\n",
              "    </tr>\n",
              "    <tr>\n",
              "      <th>1</th>\n",
              "      <td>XGBoost</td>\n",
              "      <td>0.841744</td>\n",
              "    </tr>\n",
              "    <tr>\n",
              "      <th>2</th>\n",
              "      <td>Logistic Regression</td>\n",
              "      <td>0.840671</td>\n",
              "    </tr>\n",
              "  </tbody>\n",
              "</table>\n",
              "</div>"
            ],
            "text/plain": [
              "                 Model     Score\n",
              "0    Gradient Boosting  0.844004\n",
              "1              XGBoost  0.841744\n",
              "2  Logistic Regression  0.840671"
            ]
          },
          "metadata": {
            "tags": []
          },
          "execution_count": 1443
        }
      ]
    },
    {
      "metadata": {
        "id": "47bYZezcBvIA",
        "colab_type": "code",
        "outputId": "4516b018-ff0a-4d5a-a74e-a5a752dd0354",
        "colab": {
          "base_uri": "https://localhost:8080/",
          "height": 376
        }
      },
      "cell_type": "code",
      "source": [
        "#Find out which features were given how much importance - XGBoost\n",
        "\n",
        "def importance_plotting(data, x, y, palette, title):\n",
        "    sns.set(style=\"whitegrid\")\n",
        "    ft = sns.PairGrid(data, y_vars=y, x_vars=x, size=5, aspect=1.5)\n",
        "    ft.map(sns.stripplot, orient='h', palette=palette, edgecolor=\"black\", size=15)\n",
        "    \n",
        "    for ax, title in zip(ft.axes.flat, titles):\n",
        "    # Set a different title for each axes\n",
        "        ax.set(title=title)\n",
        "    # Make the grid horizontal instead of vertical\n",
        "        ax.xaxis.grid(False)\n",
        "        ax.yaxis.grid(True)\n",
        "    plt.show()\n",
        "\n",
        "fi = {'Features':train.columns.tolist(), 'Importance':xgb.feature_importances_}\n",
        "importance = pd.DataFrame(fi, index=None).sort_values('Importance', ascending=False)\n",
        "\n",
        "titles = ['Feature Importance for Survival: XGBoost']\n",
        "\n",
        "# Plotting graph\n",
        "importance_plotting(importance, 'Importance', 'Features', 'Reds_r', titles)"
      ],
      "execution_count": 0,
      "outputs": [
        {
          "output_type": "display_data",
          "data": {
            "image/png": "[encoded data removed]",
            "text/plain": [
              "<Figure size 540x360 with 1 Axes>"
            ]
          },
          "metadata": {
            "tags": []
          }
        }
      ]
    },
    {
      "metadata": {
        "id": "-Qg73qLVI1Ep",
        "colab_type": "text"
      },
      "cell_type": "markdown",
      "source": [
        "The \"Embarked\" features seem to be of little importance, as well as one of the \"Cabin\" features."
      ]
    },
    {
      "metadata": {
        "id": "SCZ76ND5HHyn",
        "colab_type": "code",
        "outputId": "df462a4a-8847-45fb-e0ca-a52584f7f9f2",
        "colab": {
          "base_uri": "https://localhost:8080/",
          "height": 376
        }
      },
      "cell_type": "code",
      "source": [
        "#Find out which features were given how much importance - Logistic Regression\n",
        "\n",
        "fi = {'Features':train.columns.tolist(), 'Importance':np.transpose(log.coef_[0])}\n",
        "importance = pd.DataFrame(fi, index=None).sort_values('Importance', ascending=False)\n",
        "\n",
        "titles = ['Feature Importance for Survival: Logistic Regression']\n",
        "\n",
        "# Plotting graph\n",
        "importance_plotting(importance, 'Importance', 'Features', 'Reds_r', titles)"
      ],
      "execution_count": 0,
      "outputs": [
        {
          "output_type": "display_data",
          "data": {
            "image/png": "[encoded data removed]",
            "text/plain": [
              "<Figure size 540x360 with 1 Axes>"
            ]
          },
          "metadata": {
            "tags": []
          }
        }
      ]
    },
    {
      "metadata": {
        "id": "UlOWIFWUIMlw",
        "colab_type": "text"
      },
      "cell_type": "markdown",
      "source": [
        "The features around the coefficient of 0.0 can be considered to be of little importance for the logistic regression model. These particularly include the \"Embarked\" features in this model, as well as both the \"Cabin\" features."
      ]
    },
    {
      "metadata": {
        "id": "Eu4X4RhqHiKn",
        "colab_type": "code",
        "outputId": "beaacd39-193a-4bdc-b9b9-4268df4b9757",
        "colab": {
          "base_uri": "https://localhost:8080/",
          "height": 376
        }
      },
      "cell_type": "code",
      "source": [
        "#Find out which features were given how much importance - GradientBoosting\n",
        "\n",
        "fi = {'Features':train.columns.tolist(), 'Importance':gbc.feature_importances_}\n",
        "importance = pd.DataFrame(fi, index=None).sort_values('Importance', ascending=False)\n",
        "\n",
        "titles = ['Feature Importance for Survival: Gradient Boosting']\n",
        "\n",
        "# Plotting graph\n",
        "importance_plotting(importance, 'Importance', 'Features', 'Reds_r', titles)"
      ],
      "execution_count": 0,
      "outputs": [
        {
          "output_type": "display_data",
          "data": {
            "image/png": "[encoded data removed]",
            "text/plain": [
              "<Figure size 540x360 with 1 Axes>"
            ]
          },
          "metadata": {
            "tags": []
          }
        }
      ]
    },
    {
      "metadata": {
        "id": "z-tI0KthKLYl",
        "colab_type": "text"
      },
      "cell_type": "markdown",
      "source": [
        "Once again, \"Embarked\" and \"Cabin\" features are once again on the lower end of the importance spectrum."
      ]
    },
    {
      "metadata": {
        "id": "TrZbAV6cKp36",
        "colab_type": "text"
      },
      "cell_type": "markdown",
      "source": [
        "**Drop Features and Re-model**"
      ]
    },
    {
      "metadata": {
        "id": "NM_JckgdJgEN",
        "colab_type": "code",
        "colab": {}
      },
      "cell_type": "code",
      "source": [
        "#Remove Embarked_Q, Embarked_S, Embarked_C, Cabin_U, Cabin_K in efforts of decreasing noise\n",
        "train = train.drop(['Embarked_Q', 'Embarked_S', 'Embarked_C', 'Cabin_U', 'Cabin_K'], axis=1)\n",
        "test = test.drop(['Embarked_Q', 'Embarked_S', 'Embarked_C', 'Cabin_U', 'Cabin_K'], axis=1)\n",
        "\n",
        "# Re-build model variables\n",
        "X_train = train\n",
        "X_test = test\n",
        "\n",
        "# Transform\n",
        "X_train = scaler.fit_transform(X_train)\n",
        "X_test = scaler.transform(X_test)"
      ],
      "execution_count": 0,
      "outputs": []
    },
    {
      "metadata": {
        "id": "6A1uf1uVLTmj",
        "colab_type": "code",
        "outputId": "0a6cfce4-b1b1-48fb-889d-1b38127b1082",
        "colab": {
          "base_uri": "https://localhost:8080/",
          "height": 142
        }
      },
      "cell_type": "code",
      "source": [
        "#Initiate model\n",
        "gbc = GradientBoostingClassifier(random_state=1)\n",
        "log = LogisticRegression()\n",
        "xgb = XGBClassifier(random_state=1)\n",
        "\n",
        "# Lists\n",
        "models = [log, xgb, gbc]         \n",
        "scores_v2 = []\n",
        "\n",
        "# Fit & cross validate\n",
        "for mod in models:\n",
        "    mod.fit(X_train, y_train)\n",
        "    acc = cross_val_score(mod, X_train, y_train, scoring = \"accuracy\", cv = 10)\n",
        "    scores_v2.append(acc.mean())\n",
        "    \n",
        "    \n",
        "# Creating a table of results, ranked highest to lowest\n",
        "results = pd.DataFrame({\n",
        "    'Model': ['Logistic Regression', 'XGBoost', 'Gradient Boosting'],\n",
        "    'Original Score': scores,\n",
        "    'Score with feature selection': scores_v2})\n",
        "\n",
        "result_df = results.sort_values(by='Score with feature selection', ascending=False).reset_index(drop=True)\n",
        "result_df.head()"
      ],
      "execution_count": 0,
      "outputs": [
        {
          "output_type": "execute_result",
          "data": {
            "text/html": [
              "<div>\n",
              "<style scoped>\n",
              "    .dataframe tbody tr th:only-of-type {\n",
              "        vertical-align: middle;\n",
              "    }\n",
              "\n",
              "    .dataframe tbody tr th {\n",
              "        vertical-align: top;\n",
              "    }\n",
              "\n",
              "    .dataframe thead th {\n",
              "        text-align: right;\n",
              "    }\n",
              "</style>\n",
              "<table border=\"1\" class=\"dataframe\">\n",
              "  <thead>\n",
              "    <tr style=\"text-align: right;\">\n",
              "      <th></th>\n",
              "      <th>Model</th>\n",
              "      <th>Original Score</th>\n",
              "      <th>Score with feature selection</th>\n",
              "    </tr>\n",
              "  </thead>\n",
              "  <tbody>\n",
              "    <tr>\n",
              "      <th>0</th>\n",
              "      <td>XGBoost</td>\n",
              "      <td>0.841744</td>\n",
              "      <td>0.847337</td>\n",
              "    </tr>\n",
              "    <tr>\n",
              "      <th>1</th>\n",
              "      <td>Logistic Regression</td>\n",
              "      <td>0.840671</td>\n",
              "      <td>0.845178</td>\n",
              "    </tr>\n",
              "    <tr>\n",
              "      <th>2</th>\n",
              "      <td>Gradient Boosting</td>\n",
              "      <td>0.844004</td>\n",
              "      <td>0.843979</td>\n",
              "    </tr>\n",
              "  </tbody>\n",
              "</table>\n",
              "</div>"
            ],
            "text/plain": [
              "                 Model  Original Score  Score with feature selection\n",
              "0              XGBoost        0.841744                      0.847337\n",
              "1  Logistic Regression        0.840671                      0.845178\n",
              "2    Gradient Boosting        0.844004                      0.843979"
            ]
          },
          "metadata": {
            "tags": []
          },
          "execution_count": 1448
        }
      ]
    },
    {
      "metadata": {
        "id": "xf_qp0I35zSX",
        "colab_type": "code",
        "outputId": "265429e0-cdbe-4d27-87bd-c203aa16ab81",
        "colab": {
          "base_uri": "https://localhost:8080/",
          "height": 51
        }
      },
      "cell_type": "code",
      "source": [
        "#Use Soft Voting to generate the final model predictions\n",
        "grid_soft = VotingClassifier(estimators = [('Logistic Regression', log), ('XGBoost', xgb), ('Gradient Boosting', gbc)], voting = 'soft')\n",
        "\n",
        "#Cross Validate\n",
        "grid_soft_cv = model_selection.cross_validate(grid_soft, X_train, y_train, cv = 10)\n",
        "grid_soft.fit(X_train, y_train)\n",
        "\n",
        "#Final Predictions\n",
        "predictions = grid_soft.predict(X_test)\n",
        "\n",
        "submission = pd.concat([pd.DataFrame(pass_ID), pd.DataFrame(predictions)], axis = 'columns')\n",
        "\n",
        "submission.columns = [\"PassengerId\", \"Survived\"]\n",
        "submission.to_csv('titanic_submission.csv', header = True, index = False)\n",
        "\n",
        "\n",
        "print(\"Soft voting on train set score mean: {:.2f}\". format(grid_soft_cv['train_score'].mean()*100)) \n",
        "print(\"Soft voting on test set score mean: {:.2f}\". format(grid_soft_cv['test_score'].mean()*100))"
      ],
      "execution_count": 0,
      "outputs": [
        {
          "output_type": "stream",
          "text": [
            "Soft voting on train set score mean: 85.96\n",
            "Soft voting on test set score mean: 83.84\n"
          ],
          "name": "stdout"
        }
      ]
    },
    {
      "metadata": {
        "id": "cTenpbqU6F7g",
        "colab_type": "code",
        "colab": {}
      },
      "cell_type": "code",
      "source": [
        "#Download the submission file\n",
        "files.download('titanic_submission.csv')"
      ],
      "execution_count": 0,
      "outputs": []
    }
  ]
}